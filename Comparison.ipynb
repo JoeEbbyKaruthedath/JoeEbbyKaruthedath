{
  "nbformat": 4,
  "nbformat_minor": 5,
  "metadata": {
    "kernelspec": {
      "display_name": "Python 3",
      "language": "python",
      "name": "python3"
    },
    "language_info": {
      "codemirror_mode": {
        "name": "ipython",
        "version": 3
      },
      "file_extension": ".py",
      "mimetype": "text/x-python",
      "name": "python",
      "nbconvert_exporter": "python",
      "pygments_lexer": "ipython3",
      "version": "3.8.8"
    },
    "colab": {
      "name": "Comparison.ipynb",
      "provenance": [],
      "collapsed_sections": [],
      "include_colab_link": true
    }
  },
  "cells": [
    {
      "cell_type": "markdown",
      "metadata": {
        "id": "view-in-github",
        "colab_type": "text"
      },
      "source": [
        "<a href=\"https://colab.research.google.com/github/JoeEbbyKaruthedath/JoeEbbyKaruthedath/blob/main/Comparison.ipynb\" target=\"_parent\"><img src=\"https://colab.research.google.com/assets/colab-badge.svg\" alt=\"Open In Colab\"/></a>"
      ]
    },
    {
      "cell_type": "code",
      "metadata": {
        "id": "940d9db2"
      },
      "source": [
        "from sklearn.datasets import load_iris # Import Iris Data Set\n",
        "from sklearn.linear_model import LogisticRegression \n",
        "import numpy as np                     # NumPy is the package for scientific computing with Python\n",
        "from sklearn.model_selection import learning_curve \n",
        "# Determines cross-validated training and test scores for different training set sizes\n",
        "\n",
        "# Random permutation cross-validator\n",
        "from sklearn.model_selection import ShuffleSplit\n",
        "# Logistic regression classifier class\n",
        "from sklearn.linear_model import LogisticRegression\n",
        "# kNN classifier class\n",
        "from sklearn import neighbors\n",
        "# Each pyplot function makes some change to a figure: e.g., creates a figure, creates a plotting area in a figure, \n",
        "# plots some lines in a plotting area, decorates the plot with labels, etc\n",
        "import matplotlib.pyplot as plt\n",
        "\n",
        "import pandas as pd\n",
        "from sklearn.model_selection import GridSearchCV, KFold, cross_val_score #http://scikit-learn.org/stable/modules/generated/sklearn.model_selection.GridSearchCV.html\n",
        "from sklearn.tree import DecisionTreeClassifier # A decision tree classifier\n",
        "from sklearn.preprocessing import LabelEncoder\n",
        "from sklearn.model_selection import train_test_split"
      ],
      "id": "940d9db2",
      "execution_count": null,
      "outputs": []
    },
    {
      "cell_type": "code",
      "metadata": {
        "id": "b9802a04"
      },
      "source": [
        "df = pd.read_csv('http://archive.ics.uci.edu/ml/machine-learning-databases/breast-cancer-wisconsin/wdbc.data', sep=',', header=None)"
      ],
      "id": "b9802a04",
      "execution_count": null,
      "outputs": []
    },
    {
      "cell_type": "code",
      "metadata": {
        "id": "ca038023"
      },
      "source": [
        "col_names = ['id','diagnosis']\n",
        "cols = ['radius',\n",
        "'texture',\n",
        "'perimeter',\n",
        "'area',\n",
        "'smoothness',\n",
        "'compactness',\n",
        "'concavity',\n",
        "'concave_points',\n",
        "'symmetry',\n",
        "'fractal_dimension']*3\n",
        "\n",
        "\n",
        "\n",
        "for i in range(0,30):\n",
        "\tif i < 10:\n",
        "\t    cols[i] += '_mean'\n",
        "\telif i < 20:\n",
        "\t    cols[i] += '_std'\n",
        "\telse:\n",
        "\t    cols[i] += '_largest'\n",
        "cols\n",
        "\n",
        "cols = col_names + cols\n",
        "\n",
        "df.columns = cols"
      ],
      "id": "ca038023",
      "execution_count": null,
      "outputs": []
    },
    {
      "cell_type": "code",
      "metadata": {
        "id": "1294c4fe"
      },
      "source": [
        "X, y = df[df.columns[2:]], df.diagnosis"
      ],
      "id": "1294c4fe",
      "execution_count": null,
      "outputs": []
    },
    {
      "cell_type": "code",
      "metadata": {
        "id": "51297583"
      },
      "source": [
        "le = LabelEncoder()\n",
        "#print(y)               #See label before transformation\n",
        "y = le.fit_transform(y) #Labels 'M' as 1 and 'B' as 0"
      ],
      "id": "51297583",
      "execution_count": null,
      "outputs": []
    },
    {
      "cell_type": "code",
      "metadata": {
        "id": "WaLpxnHwU0IW"
      },
      "source": [
        "X_train, X_test, y_train, y_test = train_test_split(X, y, test_size=0.2, random_state = 42)"
      ],
      "id": "WaLpxnHwU0IW",
      "execution_count": null,
      "outputs": []
    },
    {
      "cell_type": "code",
      "metadata": {
        "colab": {
          "base_uri": "https://localhost:8080/"
        },
        "id": "604b045a",
        "outputId": "dc294e1c-5f86-4ecb-b867-c22769d2ae72"
      },
      "source": [
        "cv = ShuffleSplit(n_splits=10, test_size=0.3, random_state=42)\n",
        "cv"
      ],
      "id": "604b045a",
      "execution_count": null,
      "outputs": [
        {
          "output_type": "execute_result",
          "data": {
            "text/plain": [
              "ShuffleSplit(n_splits=10, random_state=42, test_size=0.3, train_size=None)"
            ]
          },
          "metadata": {},
          "execution_count": 7
        }
      ]
    },
    {
      "cell_type": "code",
      "metadata": {
        "id": "d037eec2"
      },
      "source": [
        "def plot_learning_curve(estimator, title, X, y, ylim=None, cv=None,\n",
        "                        n_jobs=1, train_sizes=np.linspace(.1, 1.0, 5)): #klinspace returns evenly spaced numbers over a specified interval (start, stop, num)\n",
        "\n",
        "    plt.figure()                    #display figure\n",
        "    plt.title(title)\n",
        "    if ylim is not None:            #if ylim was specified as an input, make sure the plots use these limits\n",
        "        plt.ylim(*ylim)\n",
        "    plt.xlabel(\"Training examples\") #y label title\n",
        "    plt.ylabel(\"Score\")             #x label title\n",
        "    \n",
        "    # Class learning_curve determines cross-validated training and test scores for different training set sizes\n",
        "    # Detailed documentation: https://scikit-learn.org/stable/modules/generated/sklearn.model_selection.learning_curve.html\n",
        "    train_sizes, train_scores, test_scores = learning_curve(\n",
        "        estimator, X, y, cv=cv, n_jobs=n_jobs, train_sizes=train_sizes)\n",
        "    \n",
        "    # Cross validation statistics for training and testing data (mean and standard deviation)\n",
        "    train_scores_mean = np.mean(train_scores, axis=1) # Compute the arithmetic mean along the specified axis.\n",
        "    train_scores_std = np.std(train_scores, axis=1)   # Compute the standard deviation along the specified axis.\n",
        "    test_scores_mean = np.mean(test_scores, axis=1)   # Compute the arithmetic mean along the specified axis.\n",
        "    test_scores_std = np.std(test_scores, axis=1)     # Compute the standard deviation along the specified axis.\n",
        "\n",
        "    plt.grid() # Configure the grid lines\n",
        "\n",
        "    # Fill the area around the line to indicate the size of standard deviations for the training data\n",
        "    # and the test data\n",
        "    plt.fill_between(train_sizes, train_scores_mean - train_scores_std,\n",
        "                     train_scores_mean + train_scores_std, alpha=0.1,\n",
        "                     color=\"r\") # train data performance indicated with red\n",
        "    plt.fill_between(train_sizes, test_scores_mean - test_scores_std,\n",
        "                     test_scores_mean + test_scores_std, alpha=0.1, color=\"g\") # test data performance indicated with green\n",
        "    \n",
        "    # Cross-validation means indicated by dots\n",
        "    # Train data performance indicated with red\n",
        "    plt.plot(train_sizes, train_scores_mean, 'o-', color=\"r\",\n",
        "             label=\"Training score\")\n",
        "    # Test data performance indicated with green\n",
        "    plt.plot(train_sizes, test_scores_mean, 'o-', color=\"g\",\n",
        "             label=\"Cross-validation score\")\n",
        "\n",
        "    plt.legend(loc=\"best\") # Show legend of the plot at the best location possible\n",
        "    return plt             # Function that returns the plot as an output"
      ],
      "id": "d037eec2",
      "execution_count": null,
      "outputs": []
    },
    {
      "cell_type": "markdown",
      "metadata": {
        "id": "78d188bf"
      },
      "source": [
        "# Decision Tree"
      ],
      "id": "78d188bf"
    },
    {
      "cell_type": "code",
      "metadata": {
        "scrolled": true,
        "id": "1a0d1a84"
      },
      "source": [
        "np.random.seed(42) # Ensure reproducability\n",
        "\n",
        "inner_cv = KFold(n_splits=5, shuffle=True, random_state = 42)\n",
        "outer_cv = KFold(n_splits=5, shuffle=True, random_state = 42)\n",
        "\n",
        "# Choosing optimal depth of the tree\n",
        "gs = GridSearchCV(estimator=DecisionTreeClassifier(random_state=42),\n",
        "                  param_grid={'max_depth': range(1, 20),\n",
        "                              'criterion': ['gini','entropy'],\n",
        "                              'min_samples_leaf': np.arange(0.01, .5, .05),                                                    \n",
        "                              \n",
        "                                                                                                                                \n",
        "                              'min_samples_split': np.arange(0.01, 1, .05)                                                      \n",
        "                              #'min_samples_split' : [0]\n",
        "                             },\n",
        "                  scoring='f1', # Specifying multiple metrics for evaluation\n",
        "                  cv=inner_cv,\n",
        "                 n_jobs = -1,\n",
        "                 verbose = 1)\n",
        "gs.fit(X, y)\n",
        "\n",
        "\n",
        "print(\" Parameter Tuning #1\")\n",
        "print(\"Non-nested CV F1 Score: \", gs.best_score_)\n",
        "print(\"Optimal Parameter: \", gs.best_params_)    # Parameter setting that gave the best results on the hold out data.\n",
        "print(\"Optimal Estimator: \", gs.best_estimator_) # Estimator that was chosen by the search, i.e. estimator which gave highest score\n",
        "nested_score_gs = cross_val_score(gs, X=X, y=y, cv=outer_cv)\n",
        "print(\"Nested CV F1\",nested_score_gs.mean(), \" +/- \", nested_score_gs.std())"
      ],
      "id": "1a0d1a84",
      "execution_count": null,
      "outputs": []
    },
    {
      "cell_type": "code",
      "metadata": {
        "id": "e6cf627a"
      },
      "source": [
        "#debug\n",
        "result_list = list(zip(gs.cv_results_['split0_test_score'], gs.cv_results_['params']))\n",
        "for score, params in result_list:\n",
        "    if np.isnan(score): print(score, params)"
      ],
      "id": "e6cf627a",
      "execution_count": null,
      "outputs": []
    },
    {
      "cell_type": "markdown",
      "metadata": {
        "id": "05beb0fa"
      },
      "source": [
        "# KNN"
      ],
      "id": "05beb0fa"
    },
    {
      "cell_type": "code",
      "metadata": {
        "id": "fa820336"
      },
      "source": [
        "from sklearn.preprocessing import StandardScaler\n",
        "from sklearn.pipeline import Pipeline\n",
        "from sklearn.neighbors import KNeighborsClassifier"
      ],
      "id": "fa820336",
      "execution_count": null,
      "outputs": []
    },
    {
      "cell_type": "code",
      "metadata": {
        "colab": {
          "base_uri": "https://localhost:8080/"
        },
        "id": "06624f12",
        "outputId": "f6608c95-2b3d-455b-a183-71529ae9b2d2"
      },
      "source": [
        "pipe = Pipeline([\n",
        "    ('sc', StandardScaler()),\n",
        "    ('knn', KNeighborsClassifier(p=2, metric='minkowski'))\n",
        "])\n",
        "\n",
        "gs_knn = GridSearchCV(estimator = pipe, \n",
        "                      param_grid = {\n",
        "                          'knn__n_neighbors': np.arange(1, 50, 1),\n",
        "                          'knn__weights': ['distance','uniform']\n",
        "                      },\n",
        "                      scoring = 'f1',\n",
        "                      cv = inner_cv\n",
        "                     )\n",
        "\n",
        "gs_knn.fit(X, y)\n",
        "print(\" Parameter Tuning #2\")\n",
        "print(\"Non-nested CV F1: \", gs_knn.best_score_)\n",
        "print(\"Optimal Parameter: \", gs_knn.best_params_)    # Parameter setting that gave the best results on the hold out data.\n",
        "print(\"Optimal Estimator: \", gs_knn.best_estimator_) # Estimator that was chosen by the search, i.e. estimator which gave highest score\n",
        "nested_score_gs = cross_val_score(gs_knn, X=X, y=y, cv=outer_cv)\n",
        "print(\"Nested CV F1: \",nested_score_gs.mean(), \" +/- \", nested_score_gs.std())"
      ],
      "id": "06624f12",
      "execution_count": null,
      "outputs": [
        {
          "output_type": "stream",
          "name": "stdout",
          "text": [
            " Parameter Tuning #2\n",
            "Non-nested CV F1:  0.9523682840047905\n",
            "Optimal Parameter:  {'knn__n_neighbors': 9, 'knn__weights': 'distance'}\n",
            "Optimal Estimator:  Pipeline(memory=None,\n",
            "         steps=[('sc',\n",
            "                 StandardScaler(copy=True, with_mean=True, with_std=True)),\n",
            "                ('knn',\n",
            "                 KNeighborsClassifier(algorithm='auto', leaf_size=30,\n",
            "                                      metric='minkowski', metric_params=None,\n",
            "                                      n_jobs=None, n_neighbors=9, p=2,\n",
            "                                      weights='distance'))],\n",
            "         verbose=False)\n",
            "Nested CV F1:  0.942907926140783  +/-  0.029192003323564676\n"
          ]
        }
      ]
    },
    {
      "cell_type": "markdown",
      "metadata": {
        "id": "7abbe211"
      },
      "source": [
        "# Logit"
      ],
      "id": "7abbe211"
    },
    {
      "cell_type": "code",
      "metadata": {
        "colab": {
          "base_uri": "https://localhost:8080/"
        },
        "id": "72c16eff",
        "outputId": "6303e0b9-04a2-4165-bf3e-cae542195f6e"
      },
      "source": [
        "\n",
        "gs_lg = GridSearchCV(\n",
        "    estimator = LogisticRegression(random_state = 42, solver = 'liblinear', max_iter = 1000),\n",
        "    param_grid = {\n",
        "        'C': float(10)**(np.arange(-10, 11, 1)),\n",
        "        'penalty': ['l1','l2']\n",
        "        \n",
        "    },\n",
        "    scoring = 'f1',\n",
        "    n_jobs = -1,\n",
        "    cv = inner_cv\n",
        ")\n",
        "\n",
        "gs_lg.fit(X, y)\n",
        "print(\" Parameter Tuning #3\")\n",
        "print(\"Non-nested CV F1: \", gs_lg.best_score_)\n",
        "print(\"Optimal Parameter: \", gs_lg.best_params_)    # Parameter setting that gave the best results on the hold out data.\n",
        "print(\"Optimal Estimator: \", gs_lg.best_estimator_) # Estimator that was chosen by the search, i.e. estimator which gave highest score\n",
        "nested_score_gs = cross_val_score(gs_lg, X=X, y=y, cv=outer_cv)\n",
        "print(\"Nested CV F1: \",nested_score_gs.mean(), \" +/- \", nested_score_gs.std())"
      ],
      "id": "72c16eff",
      "execution_count": null,
      "outputs": [
        {
          "output_type": "stream",
          "name": "stdout",
          "text": [
            " Parameter Tuning #3\n",
            "Non-nested CV F1:  0.9600196446627185\n",
            "Optimal Parameter:  {'C': 100.0, 'penalty': 'l1'}\n",
            "Optimal Estimator:  LogisticRegression(C=100.0, class_weight=None, dual=False, fit_intercept=True,\n",
            "                   intercept_scaling=1, l1_ratio=None, max_iter=1000,\n",
            "                   multi_class='auto', n_jobs=None, penalty='l1',\n",
            "                   random_state=42, solver='liblinear', tol=0.0001, verbose=0,\n",
            "                   warm_start=False)\n"
          ]
        },
        {
          "output_type": "stream",
          "name": "stderr",
          "text": [
            "/usr/local/lib/python3.7/dist-packages/sklearn/svm/_base.py:947: ConvergenceWarning: Liblinear failed to converge, increase the number of iterations.\n",
            "  \"the number of iterations.\", ConvergenceWarning)\n"
          ]
        },
        {
          "output_type": "stream",
          "name": "stdout",
          "text": [
            "Nested CV F1:  0.9474113726172749  +/-  0.018884437199457583\n"
          ]
        }
      ]
    },
    {
      "cell_type": "markdown",
      "metadata": {
        "id": "2bc56d01"
      },
      "source": [
        "# Question B"
      ],
      "id": "2bc56d01"
    },
    {
      "cell_type": "code",
      "metadata": {
        "id": "ace7f753"
      },
      "source": [
        "lg_clf = gs_lg.best_estimator_\n",
        "cv = ShuffleSplit(n_splits = 10, test_size=0.3, random_state = 42)"
      ],
      "id": "ace7f753",
      "execution_count": null,
      "outputs": []
    },
    {
      "cell_type": "code",
      "metadata": {
        "colab": {
          "base_uri": "https://localhost:8080/",
          "height": 295
        },
        "id": "19cb1088",
        "outputId": "aba0eab4-c399-46fe-9627-44d27b10045a"
      },
      "source": [
        "plot_learning_curve(lg_clf, title = 'Learning Curve (Logistic Regression)', \n",
        "                    X = X, y = y, ylim = (0.8, 1.01), cv = cv, n_jobs = -1, train_sizes = np.linspace(0.1, 1, 10))\n",
        "plt.show()"
      ],
      "id": "19cb1088",
      "execution_count": null,
      "outputs": [
        {
          "output_type": "display_data",
          "data": {
            "image/png": "[encoded data removed]",
            "text/plain": [
              "<Figure size 432x288 with 1 Axes>"
            ]
          },
          "metadata": {
            "needs_background": "light"
          }
        }
      ]
    },
    {
      "cell_type": "markdown",
      "metadata": {
        "id": "a3ca0c4e"
      },
      "source": [
        "# Question C"
      ],
      "id": "a3ca0c4e"
    },
    {
      "cell_type": "code",
      "metadata": {
        "colab": {
          "base_uri": "https://localhost:8080/",
          "height": 297
        },
        "id": "112a5f6d",
        "outputId": "59b07f5b-adeb-480c-9d55-d46ff4318180"
      },
      "source": [
        "\n",
        "# Fitting curve (aka validation curve)\n",
        "# Determine training and test scores for varying parameter values.\n",
        "from sklearn.model_selection import validation_curve\n",
        "# Split validation\n",
        "from sklearn.model_selection import train_test_split\n",
        "np.random.seed(42) #the seed used by the random number generator for np\n",
        "\n",
        "param_range = np.arange(1, 16, 1)\n",
        "\n",
        "train_scores, test_scores = validation_curve( \n",
        "                estimator=DecisionTreeClassifier(random_state=42), #Build Logistic Regression Models\n",
        "                X=X, \n",
        "                y=y, \n",
        "                param_name=\"max_depth\",\n",
        "                param_range=param_range,\n",
        "                cv=10,     #10-fold cross-validation\n",
        "                scoring=\"accuracy\", \n",
        "                n_jobs=-1) # Number of CPU cores used when parallelizing over classes if multi_class=’ovr’”. This parameter is ignored when the ``solver``is set to ‘liblinear’ regardless of whether ‘multi_class’ is specified or not. If given a value of -1, all cores are used.\n",
        "\n",
        "\n",
        "# Cross validation statistics for training and testing data (mean and standard deviation)\n",
        "train_mean = np.mean(train_scores, axis=1) # Compute the arithmetic mean along the specified axis.\n",
        "train_std = np.std(train_scores, axis=1)   # Compute the standard deviation along the specified axis.\n",
        "test_mean = np.mean(test_scores, axis=1)\n",
        "test_std = np.std(test_scores, axis=1)\n",
        "\n",
        "############################## Visualization - Fitting Graph ##############################\n",
        "\n",
        "# Plot train accuracy means of cross-validation for all the parameters C in param_range\n",
        "plt.plot(param_range, train_mean, \n",
        "         color='blue', marker='o', \n",
        "         markersize=5, label='training accuracy')\n",
        "# Fill the area around the line to indicate the size of standard deviations of performance for the training data\n",
        "plt.fill_between(param_range, train_mean + train_std,\n",
        "                 train_mean - train_std, alpha=0.15,\n",
        "                 color='blue')\n",
        "# Plot test accuracy means of cross-validation for all the parameters C in param_range\n",
        "plt.plot(param_range, test_mean, \n",
        "         color='green', linestyle='--', \n",
        "         marker='s', markersize=5, \n",
        "         label='validation accuracy')\n",
        "# Fill the area around the line to indicate the size of standard deviations of performance for the test data\n",
        "plt.fill_between(param_range, \n",
        "                 test_mean + test_std,\n",
        "                 test_mean - test_std, \n",
        "                 alpha=0.15, color='green')\n",
        "# Grid and Axes Titles\n",
        "plt.grid()\n",
        "plt.legend(loc='lower right')\n",
        "plt.xlabel('Parameter max_depth')\n",
        "plt.xticks(np.arange(0, 16, step=1))\n",
        "plt.ylabel('Accuracy')\n",
        "plt.ylim([0.85, 1.01]) # y limits in the plot\n",
        "plt.tight_layout()\n",
        "# plt.savefig('Fitting_graph_LR.png', dpi=300)\n",
        "plt.show()           # Display the figure\n",
        "\n"
      ],
      "id": "112a5f6d",
      "execution_count": null,
      "outputs": [
        {
          "output_type": "display_data",
          "data": {
            "image/png": "[encoded data removed]",
            "text/plain": [
              "<Figure size 432x288 with 1 Axes>"
            ]
          },
          "metadata": {
            "needs_background": "light"
          }
        }
      ]
    },
    {
      "cell_type": "markdown",
      "metadata": {
        "id": "a79d15eb"
      },
      "source": [
        "# Question D"
      ],
      "id": "a79d15eb"
    },
    {
      "cell_type": "code",
      "metadata": {
        "id": "4da8e5ce"
      },
      "source": [
        "dt_clf = gs.best_estimator_\n",
        "knn_clf = gs_knn.best_estimator_\n",
        "lg_clf = gs_lg.best_estimator_"
      ],
      "id": "4da8e5ce",
      "execution_count": null,
      "outputs": []
    },
    {
      "cell_type": "code",
      "metadata": {
        "id": "ff2c3e05"
      },
      "source": [
        "X_std = StandardScaler().fit_transform(X)\n",
        "X_train_std, X_test_std, y_train, y_test = train_test_split(X_std, y, test_size=0.2, random_state = 42)"
      ],
      "id": "ff2c3e05",
      "execution_count": null,
      "outputs": []
    },
    {
      "cell_type": "code",
      "metadata": {
        "colab": {
          "base_uri": "https://localhost:8080/",
          "height": 370
        },
        "id": "947c305a",
        "outputId": "d50b08c9-73c2-4fc5-9946-86f4b3bb550f"
      },
      "source": [
        "############################### Import Libraries & Modules #################################\n",
        "\n",
        "import numpy as np\n",
        "from sklearn.linear_model import LogisticRegression\n",
        "from sklearn.tree import DecisionTreeClassifier\n",
        "from sklearn.neighbors import KNeighborsClassifier \n",
        "from sklearn.metrics import roc_curve\n",
        "from sklearn.metrics import auc\n",
        "\n",
        "######################################## Classifiers ########################################\n",
        "\n",
        "clf_labels = ['Logistic regression', 'Decision tree', 'kNN']\n",
        "all_clf = [lg_clf, dt_clf, knn_clf]\n",
        "\n",
        "#################################### Cross - Validation ####################################\n",
        "\n",
        "\n",
        "print('10-fold cross validation:\\n')\n",
        "# Note: We are assuming here that the data is standardized. For the homework, you need to make sure the data is standardized.\n",
        "for clf, label in zip(all_clf, clf_labels): #For all classifiers \n",
        "    scores = cross_val_score(estimator=clf,  #Estimate AUC based on cross validation\n",
        "                             X=X,\n",
        "                             y=y,\n",
        "                             cv=10,\n",
        "                             scoring='roc_auc')\n",
        "    print(\"ROC AUC: %0.2f (+/- %0.2f) [%s]\" #Print peformance statistics based on cross-validation\n",
        "          % (scores.mean(), scores.std(), label))\n",
        "\n",
        "##################################### Visualization ######################################\n",
        "\n",
        "colors = [ 'orange', 'blue', 'green']      # Colors for visualization\n",
        "linestyles = [':', '--', '-.', '-']        # Line styles for visualization\n",
        "for clf, label, clr, ls in zip(all_clf,\n",
        "               clf_labels, colors, linestyles):\n",
        "\n",
        "    # Assuming the label of the positive class is 1 and data is normalized\n",
        "    y_pred = clf.fit(X_train,\n",
        "                     y_train).predict_proba(X_test)[:, 1] # Make predictions based on the classifiers\n",
        "    fpr, tpr, thresholds = roc_curve(y_true=y_test, # Build ROC curve\n",
        "                                     y_score=y_pred)\n",
        "    roc_auc = auc(x=fpr, y=tpr)                # Compute Area Under the Curve (AUC) \n",
        "    plt.plot(fpr, tpr,                         # Plot ROC Curve and create label with AUC values\n",
        "             color=clr,\n",
        "             linestyle=ls,\n",
        "             label='%s (auc = %0.3f)' % (label, roc_auc))\n",
        "\n",
        "plt.legend(loc='lower right')    # Where to place the legend\n",
        "plt.plot([0, 1], [0, 1], # Visualize random classifier\n",
        "         linestyle='--',\n",
        "         color='gray',\n",
        "         linewidth=2)\n",
        "\n",
        "plt.xlim([-0.1, 1.1])   #limits for x axis\n",
        "plt.ylim([-0.1, 1.1])   #limits for y axis\n",
        "plt.grid(alpha=0.5)\n",
        "plt.xlabel('False positive rate (FPR)')\n",
        "plt.ylabel('True positive rate (TPR)')\n",
        "\n",
        "\n",
        "#plt.savefig('ROC_all_classifiers', dpi=300)\n",
        "plt.show()"
      ],
      "id": "947c305a",
      "execution_count": null,
      "outputs": [
        {
          "output_type": "stream",
          "name": "stdout",
          "text": [
            "10-fold cross validation:\n",
            "\n",
            "ROC AUC: 0.99 (+/- 0.01) [Logistic regression]\n",
            "ROC AUC: 0.96 (+/- 0.03) [Decision tree]\n",
            "ROC AUC: 0.99 (+/- 0.01) [kNN]\n"
          ]
        },
        {
          "output_type": "display_data",
          "data": {
            "image/png": "[encoded data removed]",
            "text/plain": [
              "<Figure size 432x288 with 1 Axes>"
            ]
          },
          "metadata": {
            "needs_background": "light"
          }
        }
      ]
    },
    {
      "cell_type": "code",
      "metadata": {
        "id": "0abc778e"
      },
      "source": [
        ""
      ],
      "id": "0abc778e",
      "execution_count": null,
      "outputs": []
    },
    {
      "cell_type": "code",
      "metadata": {
        "id": "39387e68"
      },
      "source": [
        ""
      ],
      "id": "39387e68",
      "execution_count": null,
      "outputs": []
    }
  ]
}